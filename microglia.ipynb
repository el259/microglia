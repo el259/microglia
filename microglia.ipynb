{
 "cells": [
  {
   "cell_type": "markdown",
   "id": "d5f02428",
   "metadata": {},
   "source": [
    "Agent-based modeling of microglia\n",
    "\n",
    "Andrew Gallimore, Enrique Lopez, Sela Raisl, Mack Kona, Anthony Wolfe and Kamila Larripa. \n",
    "\n",
    "California Polytechnic University, Humboldt"
   ]
  },
  {
   "cell_type": "code",
   "execution_count": 9,
   "id": "09532432",
   "metadata": {},
   "outputs": [],
   "source": [
    "import mesa\n",
    "import math\n",
    "import numpy as np\n",
    "import pandas as pad\n",
    "import seaborn as sns\n",
    "\n",
    "from mesa import Agent, Model\n",
    "from mesa.datacollection import DataCollector\n",
    "from mesa.discrete_space import CellAgent, FixedAgent, OrthogonalMooreGrid\n",
    "from mesa.visualization import CommandConsole, Slider, SolaraViz, SpaceRenderer, make_plot_component\n",
    "from mesa.visualization.components import AgentPortrayalStyle\n",
    "from mesa.experimental.devs import ABMSimulator"
   ]
  },
  {
   "cell_type": "markdown",
   "id": "c1529a75",
   "metadata": {},
   "source": [
    "Agents"
   ]
  },
  {
   "cell_type": "code",
   "execution_count": 3,
   "id": "d16dafe0",
   "metadata": {},
   "outputs": [],
   "source": [
    "class MicrogliaAgent(CellAgent):\n",
    "    \n",
    "    def __init__(self, model, phenotype=None, energy=10, stopped=False, immune_tolerance=0, cell=None):\n",
    "        \"\"\"\n",
    "        Initalize a microglia \n",
    "        \"\"\"\n",
    "        super().__init__(model)\n",
    "        self.phenotype = phenotype\n",
    "        self.energy = 10\n",
    "        self.immune_tolerance = 0\n",
    "        self.cell = cell\n",
    "    \n",
    "    def feed(self):\n",
    "        \"\"\"abstract method, TODO\"\"\"\n",
    "\n",
    "    def step(self):\n",
    "        self.move()\n",
    "        self.energy -= 1\n",
    "        self.feed()\n",
    "        \n",
    "        if self.energy() < 0:\n",
    "            self.remove()\n",
    "\n",
    "class HomeostaticMicroglia(MicrogliaAgent):\n",
    "    \n",
    "    def feed(self):\n",
    "        patch = next(obj for obj in self.cell.agents if isinstance(obj,Nueron))\n",
    "\n",
    "    def move(self):\n",
    "        cells_without_microglia = self.cell.neighborhood.select(\n",
    "            lambda cell: not any(isinstance(obj, HomeostaticMicroglia) for obj in cell.agents)\n",
    "        )\n",
    "        cells_with_nuerons = cells_without_microglia.select(\n",
    "            lambda cell: any(isinstance(obj, Nueron) and obj.alive for obj in cell.agents)\n",
    "        )\n",
    "        target_cells = (\n",
    "            cells_with_nuerons if len(cells_with_nuerons) > 0 else cells_without_microglia\n",
    "        )\n",
    "        self.cell = target_cells.select_random_cell()\n",
    "\n",
    "#lass Proinflammatory(MicrogliaAgent):\n",
    " #   x\n",
    "\n",
    "class Nueron(FixedAgent):\n",
    "\n",
    "    @property\n",
    "    def alive(self):\n",
    "        return self.__alive\n",
    "\n",
    "    def __init__(self, model, cell):\n",
    "        super().__init__(model)\n",
    "        self.cell = cell"
   ]
  },
  {
   "cell_type": "code",
   "execution_count": 4,
   "id": "f692dd1e",
   "metadata": {},
   "outputs": [],
   "source": [
    "class MicrogliaAgent(CellAgent):\n",
    "    \n",
    "    def __init__(self, model, phenotype=None, energy=0, stopped=False, immune_tolerance=0, cell=None):\n",
    "        super().__init__(model)\n",
    "        self.cell = cell\n",
    "        self.age = 1\n",
    "        self.energy = 10\n",
    "\n",
    "\n",
    "\n",
    "\n",
    "    def move(self):\n",
    "        self.cell = self.cell.neighborhood.select_random_cell()\n",
    "\n",
    "    def announceAge(self):\n",
    "        print(f\"Agent {self.unique_id}: {self.age!s}.\")"
   ]
  },
  {
   "cell_type": "markdown",
   "id": "e090e22d",
   "metadata": {},
   "source": [
    "Model Code"
   ]
  },
  {
   "cell_type": "code",
   "execution_count": null,
   "id": "921bd9df",
   "metadata": {},
   "outputs": [],
   "source": [
    "class MicrogliaModel(Model):\n",
    "    def __init__(\n",
    "        self,\n",
    "        width=33,\n",
    "        height=33,\n",
    "        initial_microglia=2,\n",
    "        initial_nuerons=6,\n",
    "        seed=None,\n",
    "        simulator:ABMSimulator = None\n",
    "        ):\n",
    "        \n",
    "        super().__init__(seed=seed)\n",
    "        self.simulator = simulator\n",
    "        self.simulator.setup(self)\n",
    "\n",
    "        # init model parameters\n",
    "        self.height = height\n",
    "        self.width = width\n",
    "\n",
    "        # grid\n",
    "        self.grid = OrthogonalMooreGrid([self.height, self.width], torus=True, capacity=100, random=self.random,)\n",
    "\n",
    "        # creating reporters\n",
    "        model_reporters = {\n",
    "            \"Microglia\": lambda m: len(m.agents_by_type[HomeostaticMicroglia]),\n",
    "            \"Nueron\": lambda m: len(m.agents_by_type[Nueron])\n",
    "        }\n",
    "\n",
    "        self.datacollector = DataCollector(model_reporters)\n",
    "\n",
    "        ## create microglia\n",
    "        HomeostaticMicroglia.create_agents(self, initial_microglia, phenotype=None, energy=10, stopped=False, immune_tolerance=0, cell=self.random.choices(self.grid.all_cells.cells, k=initial_microglia))\n",
    "        \n",
    "        Nueron.create_agents(self, initial_nuerons, phenotype=None, energy=10, stopped=False, immune_tolerance=0, cell=self.random.choices(self.grid.all_cells.cells, k=initial_nuerons))\n",
    "\n",
    "        self.running = True\n",
    "        self.datacollector.collect(self)\n",
    "\n",
    "    def step(self):\n",
    "        self.agents_by_type[HomeostaticMicroglia].shuffle_do(\"step\")\n",
    "\n",
    "        self.datacollector.collect(self)\n",
    "    "
   ]
  },
  {
   "cell_type": "markdown",
   "id": "31ae945b",
   "metadata": {},
   "source": [
    "App"
   ]
  },
  {
   "cell_type": "code",
   "execution_count": null,
   "id": "f6dd4950",
   "metadata": {},
   "outputs": [],
   "source": []
  }
 ],
 "metadata": {
  "kernelspec": {
   "display_name": "Python 3",
   "language": "python",
   "name": "python3"
  },
  "language_info": {
   "codemirror_mode": {
    "name": "ipython",
    "version": 3
   },
   "file_extension": ".py",
   "mimetype": "text/x-python",
   "name": "python",
   "nbconvert_exporter": "python",
   "pygments_lexer": "ipython3",
   "version": "3.11.5"
  }
 },
 "nbformat": 4,
 "nbformat_minor": 5
}
