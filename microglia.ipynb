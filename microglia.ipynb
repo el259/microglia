{
 "cells": [
  {
   "cell_type": "markdown",
   "id": "d5f02428",
   "metadata": {},
   "source": [
    "Agent-based modeling of microglia\n",
    "\n",
    "Andrew Gallimore, Enrique Lopez, Sela Raisl, Mack Kona, Anthony Wolfe and Kamila Larripa. \n",
    "\n",
    "California Polytechnic University, Humboldt"
   ]
  },
  {
   "cell_type": "code",
   "execution_count": null,
   "id": "09532432",
   "metadata": {
    "vscode": {
     "languageId": "plaintext"
    }
   },
   "outputs": [],
   "source": [
    "import mesa\n",
    "import numpy\n",
    "import pandas"
   ]
  }
 ],
 "metadata": {
  "language_info": {
   "name": "python"
  }
 },
 "nbformat": 4,
 "nbformat_minor": 5
}
